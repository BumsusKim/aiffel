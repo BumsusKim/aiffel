{
 "cells": [
  {
   "cell_type": "markdown",
   "id": "c122c4e9",
   "metadata": {},
   "source": [
    "# 데이터 읽어오기"
   ]
  },
  {
   "cell_type": "code",
   "execution_count": 5,
   "id": "d2eb055b",
   "metadata": {},
   "outputs": [
    {
     "name": "stdout",
     "output_type": "stream",
     "text": [
      "데이터 크기: 187088\n",
      "Examples:\n",
      " [\"Now I've heard there was a secret chord\", 'That David played, and it pleased the Lord', \"But you don't really care for music, do you?\"]\n"
     ]
    }
   ],
   "source": [
    "import os, re \n",
    "import numpy as np\n",
    "import tensorflow as tf\n",
    "import glob\n",
    "\n",
    "txt_file_path = os.getenv('HOME')+'/aiffel/lyricist/data/lyrics/*'\n",
    "\n",
    "txt_list = glob.glob(txt_file_path)\n",
    "\n",
    "raw_corpus = []\n",
    "\n",
    "# 여러개의 txt 파일을 모두 읽어서 raw_corpus 에 담습니다.\n",
    "for txt_file in txt_list:\n",
    "    with open(txt_file, \"r\") as f:\n",
    "        raw = f.read().splitlines()\n",
    "        raw_corpus.extend(raw)\n",
    "\n",
    "print(\"데이터 크기:\", len(raw_corpus))\n",
    "print(\"Examples:\\n\", raw_corpus[:3])"
   ]
  },
  {
   "cell_type": "code",
   "execution_count": 6,
   "id": "70a66bd1",
   "metadata": {},
   "outputs": [
    {
     "name": "stdout",
     "output_type": "stream",
     "text": [
      "Now I've heard there was a secret chord\n",
      "That David played, and it pleased the Lord\n",
      "But you don't really care for music, do you?\n",
      "It goes like this\n",
      "The fourth, the fifth\n",
      "The minor fall, the major lift\n",
      "The baffled king composing Hallelujah Hallelujah\n",
      "Hallelujah\n",
      "Hallelujah\n",
      "Hallelujah Your faith was strong but you needed proof\n"
     ]
    }
   ],
   "source": [
    "for idx, sentence in enumerate(raw_corpus):\n",
    "    if len(sentence) == 0: continue   # 길이가 0인 문장은 건너뜁니다.\n",
    "    if sentence[-1] == \":\": continue  # 문장의 끝이 : 인 문장은 건너뜁니다.\n",
    "    if idx > 9: break   # 일단 문장 10개만 확인해 볼 겁니다.\n",
    "        \n",
    "    print(sentence)"
   ]
  },
  {
   "cell_type": "markdown",
   "id": "bf07a1f4",
   "metadata": {},
   "source": [
    "# 데이터 정제"
   ]
  },
  {
   "cell_type": "markdown",
   "id": "1d71ce3f",
   "metadata": {},
   "source": [
    "## 정규표현식을 이용한 필터링"
   ]
  },
  {
   "cell_type": "code",
   "execution_count": 7,
   "id": "d3ffc42e",
   "metadata": {},
   "outputs": [
    {
     "name": "stdout",
     "output_type": "stream",
     "text": [
      "<start> this is sample sentence . <end>\n"
     ]
    }
   ],
   "source": [
    "# 입력된 문장을\n",
    "#     1. 소문자로 바꾸고, 양쪽 공백을 지웁니다\n",
    "#     2. 특수문자 양쪽에 공백을 넣고\n",
    "#     3. 여러개의 공백은 하나의 공백으로 바꿉니다\n",
    "#     4. a-zA-Z?.!,¿가 아닌 모든 문자를 하나의 공백으로 바꿉니다\n",
    "#     5. 다시 양쪽 공백을 지웁니다\n",
    "#     6. 문장 시작에는 <start>, 끝에는 <end>를 추가합니다\n",
    "# 이 순서로 처리해주면 문제가 되는 상황을 방지할 수 있겠네요!\n",
    "def preprocess_sentence(sentence):\n",
    "    sentence = sentence.lower().strip() # 1\n",
    "    sentence = re.sub(r\"([?.!,¿])\", r\" \\1 \", sentence) # 2\n",
    "    sentence = re.sub(r'[\" \"]+', \" \", sentence) # 3\n",
    "    sentence = re.sub(r\"[^a-zA-Z?.!,¿]+\", \" \", sentence) # 4\n",
    "    sentence = sentence.strip() # 5\n",
    "    sentence = '<start> ' + sentence + ' <end>' # 6\n",
    "    return sentence\n",
    "\n",
    "# 이 문장이 어떻게 필터링되는지 확인해 보세요.\n",
    "print(preprocess_sentence(\"This @_is ;;;sample        sentence.\"))"
   ]
  },
  {
   "cell_type": "markdown",
   "id": "cec05fcf",
   "metadata": {},
   "source": [
    "## 정제데이터 구축"
   ]
  },
  {
   "cell_type": "code",
   "execution_count": 8,
   "id": "ddafb2d8",
   "metadata": {},
   "outputs": [
    {
     "data": {
      "text/plain": [
       "['<start> now i ve heard there was a secret chord <end>',\n",
       " '<start> that david played , and it pleased the lord <end>',\n",
       " '<start> but you don t really care for music , do you ? <end>',\n",
       " '<start> it goes like this <end>',\n",
       " '<start> the fourth , the fifth <end>',\n",
       " '<start> the minor fall , the major lift <end>',\n",
       " '<start> the baffled king composing hallelujah hallelujah <end>',\n",
       " '<start> hallelujah <end>',\n",
       " '<start> hallelujah <end>',\n",
       " '<start> you saw her bathing on the roof <end>']"
      ]
     },
     "execution_count": 8,
     "metadata": {},
     "output_type": "execute_result"
    }
   ],
   "source": [
    "# 여기에 정제된 문장을 모을겁니다\n",
    "corpus = []\n",
    "\n",
    "for sentence in raw_corpus:\n",
    "    # 우리가 원하지 않는 문장은 건너뜁니다\n",
    "    if len(sentence) == 0: continue\n",
    "    if sentence[-1] == \":\": continue\n",
    "    if len(sentence) > 50 : continue\n",
    "    # 정제를 하고 담아주세요\n",
    "    preprocessed_sentence = preprocess_sentence(sentence)\n",
    "    corpus.append(preprocessed_sentence)\n",
    "        \n",
    "# 정제된 결과를 10개만 확인해보죠\n",
    "corpus[:10]"
   ]
  },
  {
   "cell_type": "markdown",
   "id": "0e513c68",
   "metadata": {},
   "source": [
    "## 텐서로 변환"
   ]
  },
  {
   "cell_type": "code",
   "execution_count": 9,
   "id": "3be51d84",
   "metadata": {},
   "outputs": [
    {
     "name": "stdout",
     "output_type": "stream",
     "text": [
      "[[   2   52    4 ...    0    0    0]\n",
      " [   2   17 3252 ...    0    0    0]\n",
      " [   2   38    7 ...    0    0    0]\n",
      " ...\n",
      " [   2    4  121 ...    0    0    0]\n",
      " [   2  259  194 ...    0    0    0]\n",
      " [   2    7   35 ...    0    0    0]] <keras_preprocessing.text.Tokenizer object at 0x7fabf4d5f0d0>\n"
     ]
    }
   ],
   "source": [
    "# 토큰화 할 때 텐서플로우의 Tokenizer와 pad_sequences를 사용합니다\n",
    "# 더 잘 알기 위해 아래 문서들을 참고하면 좋습니다\n",
    "# https://www.tensorflow.org/api_docs/python/tf/keras/preprocessing/text/Tokenizer\n",
    "# https://www.tensorflow.org/api_docs/python/tf/keras/preprocessing/sequence/pad_sequences\n",
    "def tokenize(corpus):\n",
    "    # 7000단어를 기억할 수 있는 tokenizer를 만들겁니다\n",
    "    # 우리는 이미 문장을 정제했으니 filters가 필요없어요\n",
    "    # 7000단어에 포함되지 못한 단어는 '<unk>'로 바꿀거에요\n",
    "    tokenizer = tf.keras.preprocessing.text.Tokenizer(\n",
    "        num_words=7000, \n",
    "        filters=' ',\n",
    "        oov_token=\"<unk>\"\n",
    "    )\n",
    "    # corpus를 이용해 tokenizer 내부의 단어장을 완성합니다\n",
    "    tokenizer.fit_on_texts(corpus)\n",
    "    # 준비한 tokenizer를 이용해 corpus를 Tensor로 변환합니다\n",
    "    tensor = tokenizer.texts_to_sequences(corpus)   \n",
    "    # 입력 데이터의 시퀀스 길이를 일정하게 맞춰줍니다\n",
    "    # 만약 시퀀스가 짧다면 문장 뒤에 패딩을 붙여 길이를 맞춰줍니다.\n",
    "    # 문장 앞에 패딩을 붙여 길이를 맞추고 싶다면 padding='pre'를 사용합니다\n",
    "    tensor = tf.keras.preprocessing.sequence.pad_sequences(tensor, padding='post')  \n",
    "    \n",
    "    print(tensor,tokenizer)\n",
    "    return tensor, tokenizer\n",
    "\n",
    "tensor, tokenizer = tokenize(corpus)"
   ]
  },
  {
   "cell_type": "markdown",
   "id": "6649244c",
   "metadata": {},
   "source": [
    "## Padding"
   ]
  },
  {
   "cell_type": "code",
   "execution_count": 10,
   "id": "52da56a2",
   "metadata": {},
   "outputs": [
    {
     "name": "stdout",
     "output_type": "stream",
     "text": [
      "[   2   52    4   94  339   65   56    9  953 6111    3    0    0    0\n",
      "    0    0    0    0    0    0    0    0    0    0    0    0    0]\n",
      "[  52    4   94  339   65   56    9  953 6111    3    0    0    0    0\n",
      "    0    0    0    0    0    0    0    0    0    0    0    0    0]\n"
     ]
    }
   ],
   "source": [
    "# tensor에서 마지막 토큰을 잘라내서 소스 문장을 생성합니다\n",
    "# 마지막 토큰은 <end>가 아니라 <pad>일 가능성이 높습니다.\n",
    "src_input = tensor[:, :-1]  \n",
    "# tensor에서 <start>를 잘라내서 타겟 문장을 생성합니다.\n",
    "tgt_input = tensor[:, 1:]    \n",
    "\n",
    "print(src_input[0])\n",
    "print(tgt_input[0])\n",
    "\n"
   ]
  },
  {
   "cell_type": "markdown",
   "id": "469526eb",
   "metadata": {},
   "source": [
    "## 데이터를 훈련데이터와 테스트데이터로 분리"
   ]
  },
  {
   "cell_type": "code",
   "execution_count": 11,
   "id": "c3e415f3",
   "metadata": {},
   "outputs": [],
   "source": [
    "from sklearn.model_selection import train_test_split\n",
    "enc_train, enc_val, dec_train, dec_val = train_test_split(src_input, \n",
    "                                                          tgt_input, \n",
    "                                                          test_size=0.2,\n",
    "                                                          random_state=42,) "
   ]
  },
  {
   "cell_type": "markdown",
   "id": "85b864a2",
   "metadata": {},
   "source": [
    "## 데이터셋  객체 만들기"
   ]
  },
  {
   "cell_type": "code",
   "execution_count": 12,
   "id": "1deedd35",
   "metadata": {},
   "outputs": [
    {
     "data": {
      "text/plain": [
       "<BatchDataset shapes: ((256, 27), (256, 27)), types: (tf.int32, tf.int32)>"
      ]
     },
     "execution_count": 12,
     "metadata": {},
     "output_type": "execute_result"
    }
   ],
   "source": [
    "BUFFER_SIZE = len(src_input)\n",
    "BATCH_SIZE = 256\n",
    "steps_per_epoch = len(src_input) // BATCH_SIZE\n",
    "\n",
    " # tokenizer가 구축한 단어사전 내 7000개와, 여기 포함되지 않은 0:<pad>를 포함하여 7001개\n",
    "VOCAB_SIZE = tokenizer.num_words + 1   \n",
    "\n",
    "# 준비한 데이터 소스로부터 데이터셋을 만듭니다\n",
    "# 데이터셋에 대해서는 아래 문서를 참고하세요\n",
    "# 자세히 알아둘수록 도움이 많이 되는 중요한 문서입니다\n",
    "# https://www.tensorflow.org/api_docs/python/tf/data/Dataset\n",
    "dataset = tf.data.Dataset.from_tensor_slices((src_input, tgt_input))\n",
    "dataset = dataset.shuffle(BUFFER_SIZE)\n",
    "dataset = dataset.batch(BATCH_SIZE, drop_remainder=True)\n",
    "dataset"
   ]
  },
  {
   "cell_type": "markdown",
   "id": "b014b145",
   "metadata": {},
   "source": [
    "## 전처리 요약\n",
    "##### 정규표현식을 이용한 corpus 생성\n",
    "##### tf.keras.preprocessing.text.Tokenizer를 이용해 corpus를 텐서로 변환\n",
    "##### tf.data.Dataset.from_tensor_slices()를 이용해 corpus 텐서를 tf.data.Dataset객체로 변환"
   ]
  },
  {
   "cell_type": "markdown",
   "id": "b83cb7fb",
   "metadata": {},
   "source": [
    "# 모델 생성"
   ]
  },
  {
   "cell_type": "code",
   "execution_count": 13,
   "id": "cbf53c53",
   "metadata": {},
   "outputs": [],
   "source": [
    "class TextGenerator(tf.keras.Model):\n",
    "    def __init__(self, vocab_size, embedding_size, hidden_size):\n",
    "        super().__init__()\n",
    "        \n",
    "        self.embedding = tf.keras.layers.Embedding(vocab_size, embedding_size)\n",
    "        self.rnn_1 = tf.keras.layers.LSTM(hidden_size, return_sequences=True)\n",
    "        self.rnn_2 = tf.keras.layers.LSTM(hidden_size, return_sequences=True)\n",
    "        self.linear = tf.keras.layers.Dense(vocab_size)\n",
    "        \n",
    "    def call(self, x):\n",
    "        out = self.embedding(x)\n",
    "        out = self.rnn_1(out)\n",
    "        out = self.rnn_2(out)\n",
    "        out = self.linear(out)\n",
    "        \n",
    "        return out\n",
    "    \n",
    "embedding_size = 256\n",
    "hidden_size = 1024\n",
    "model = TextGenerator(tokenizer.num_words + 1, embedding_size , hidden_size)"
   ]
  },
  {
   "cell_type": "code",
   "execution_count": 14,
   "id": "79c9a6d8",
   "metadata": {},
   "outputs": [
    {
     "data": {
      "text/plain": [
       "<tf.Tensor: shape=(256, 27, 7001), dtype=float32, numpy=\n",
       "array([[[ 5.41681598e-04, -3.07244947e-04,  8.04283845e-05, ...,\n",
       "         -2.36691543e-04,  2.04978045e-04, -6.57735218e-05],\n",
       "        [ 8.25606810e-04, -5.57534804e-04, -2.18432484e-04, ...,\n",
       "         -5.49558084e-04,  3.67457396e-04, -2.23899187e-04],\n",
       "        [ 8.22804694e-04, -1.08765461e-03, -3.54898599e-04, ...,\n",
       "         -9.36726399e-04,  2.66061921e-04, -3.54314870e-05],\n",
       "        ...,\n",
       "        [ 1.82848214e-03,  5.45008946e-03, -1.75667962e-03, ...,\n",
       "         -2.78744963e-03,  2.03426680e-04,  3.86123988e-03],\n",
       "        [ 1.85241061e-03,  5.48129948e-03, -1.73596677e-03, ...,\n",
       "         -2.78727408e-03,  2.11591585e-04,  3.85455368e-03],\n",
       "        [ 1.86552817e-03,  5.49529353e-03, -1.71105715e-03, ...,\n",
       "         -2.78496882e-03,  2.18973830e-04,  3.84560856e-03]],\n",
       "\n",
       "       [[ 5.41681598e-04, -3.07244947e-04,  8.04283845e-05, ...,\n",
       "         -2.36691543e-04,  2.04978045e-04, -6.57735218e-05],\n",
       "        [ 7.68541882e-04, -7.98606023e-04, -4.73851425e-04, ...,\n",
       "         -1.94336753e-04,  5.78674197e-04,  8.10560159e-05],\n",
       "        [ 9.00458137e-04, -9.31506453e-04, -8.82045017e-04, ...,\n",
       "         -1.14600756e-04,  5.45601244e-04, -4.76363712e-05],\n",
       "        ...,\n",
       "        [ 1.80647883e-03,  5.53940190e-03, -1.61996740e-03, ...,\n",
       "         -2.73839175e-03,  3.10827047e-04,  3.79343657e-03],\n",
       "        [ 1.80492492e-03,  5.51222824e-03, -1.59396010e-03, ...,\n",
       "         -2.74248840e-03,  2.99708016e-04,  3.78883583e-03],\n",
       "        [ 1.79930590e-03,  5.48448693e-03, -1.57081964e-03, ...,\n",
       "         -2.74498528e-03,  2.91336066e-04,  3.78510240e-03]],\n",
       "\n",
       "       [[ 5.41681598e-04, -3.07244947e-04,  8.04283845e-05, ...,\n",
       "         -2.36691543e-04,  2.04978045e-04, -6.57735218e-05],\n",
       "        [ 6.38220052e-04, -2.53617094e-04, -4.07519197e-04, ...,\n",
       "         -6.63978339e-04,  4.48137958e-04,  1.00997982e-04],\n",
       "        [ 5.97566948e-04, -5.25495678e-04, -8.04429175e-04, ...,\n",
       "         -1.13573705e-03,  8.23250855e-04,  5.78148101e-05],\n",
       "        ...,\n",
       "        [ 2.13529146e-03,  5.72202820e-03, -1.73278351e-03, ...,\n",
       "         -2.86176428e-03, -1.41785160e-04,  4.38491814e-03],\n",
       "        [ 2.10885680e-03,  5.70447557e-03, -1.68768060e-03, ...,\n",
       "         -2.84482515e-03, -9.64844367e-05,  4.30295290e-03],\n",
       "        [ 2.07891758e-03,  5.67725534e-03, -1.64683408e-03, ...,\n",
       "         -2.83016008e-03, -5.22687333e-05,  4.22637910e-03]],\n",
       "\n",
       "       ...,\n",
       "\n",
       "       [[ 5.41681598e-04, -3.07244947e-04,  8.04283845e-05, ...,\n",
       "         -2.36691543e-04,  2.04978045e-04, -6.57735218e-05],\n",
       "        [ 6.27784233e-04, -6.91955269e-04,  1.83653639e-04, ...,\n",
       "         -3.43348278e-04,  5.86331706e-04,  7.15343049e-05],\n",
       "        [ 9.88589134e-04, -5.35549829e-04,  4.82435513e-04, ...,\n",
       "         -4.03538404e-04,  9.86049185e-04,  2.10280064e-04],\n",
       "        ...,\n",
       "        [ 1.68150722e-03,  5.74476877e-03, -1.89509534e-03, ...,\n",
       "         -2.89201248e-03, -1.03930943e-04,  4.05673543e-03],\n",
       "        [ 1.72167434e-03,  5.71714994e-03, -1.83960947e-03, ...,\n",
       "         -2.89250654e-03, -5.53544960e-05,  4.02115146e-03],\n",
       "        [ 1.74934324e-03,  5.68123627e-03, -1.78774656e-03, ...,\n",
       "         -2.88829627e-03, -1.04953851e-05,  3.98586318e-03]],\n",
       "\n",
       "       [[ 5.41681598e-04, -3.07244947e-04,  8.04283845e-05, ...,\n",
       "         -2.36691543e-04,  2.04978045e-04, -6.57735218e-05],\n",
       "        [ 4.78203205e-04, -6.01743581e-04, -3.09198776e-06, ...,\n",
       "         -3.99638171e-04,  1.88096776e-04,  1.04415187e-04],\n",
       "        [ 2.78547581e-04, -1.20144582e-03,  9.54366915e-05, ...,\n",
       "         -3.13328550e-04,  2.69587472e-04, -6.82413956e-05],\n",
       "        ...,\n",
       "        [ 1.88793731e-03,  5.59599046e-03, -1.79532438e-03, ...,\n",
       "         -2.87328544e-03,  2.29568812e-07,  4.16433951e-03],\n",
       "        [ 1.89557869e-03,  5.58067998e-03, -1.76574697e-03, ...,\n",
       "         -2.86146812e-03,  2.88817646e-05,  4.11535753e-03],\n",
       "        [ 1.89428660e-03,  5.55932242e-03, -1.73471868e-03, ...,\n",
       "         -2.85012112e-03,  5.63009380e-05,  4.06878907e-03]],\n",
       "\n",
       "       [[ 5.41681598e-04, -3.07244947e-04,  8.04283845e-05, ...,\n",
       "         -2.36691543e-04,  2.04978045e-04, -6.57735218e-05],\n",
       "        [ 6.75446005e-04, -7.26367172e-04,  3.14492994e-04, ...,\n",
       "         -4.29614010e-04,  8.74246980e-05, -1.05755833e-04],\n",
       "        [ 8.97416030e-04, -8.74964288e-04,  8.91102129e-04, ...,\n",
       "         -5.39237168e-04,  2.23509720e-04, -2.20520815e-04],\n",
       "        ...,\n",
       "        [ 1.90121564e-03,  5.44898119e-03, -1.78845436e-03, ...,\n",
       "         -2.90700630e-03,  5.36205007e-05,  3.93756852e-03],\n",
       "        [ 1.90531253e-03,  5.45977242e-03, -1.74555264e-03, ...,\n",
       "         -2.88665877e-03,  8.72829187e-05,  3.91299883e-03],\n",
       "        [ 1.90079305e-03,  5.45948232e-03, -1.70557864e-03, ...,\n",
       "         -2.86825467e-03,  1.17429518e-04,  3.89021146e-03]]],\n",
       "      dtype=float32)>"
      ]
     },
     "execution_count": 14,
     "metadata": {},
     "output_type": "execute_result"
    }
   ],
   "source": [
    "# 데이터셋에서 데이터 한 배치만 불러오는 방법입니다.\n",
    "# 지금은 동작 원리에 너무 빠져들지 마세요~\n",
    "for src_sample, tgt_sample in dataset.take(1): break\n",
    "\n",
    "# 한 배치만 불러온 데이터를 모델에 넣어봅니다\n",
    "model(src_sample)"
   ]
  },
  {
   "cell_type": "code",
   "execution_count": 15,
   "id": "4f5a241b",
   "metadata": {},
   "outputs": [
    {
     "name": "stdout",
     "output_type": "stream",
     "text": [
      "Model: \"text_generator\"\n",
      "_________________________________________________________________\n",
      "Layer (type)                 Output Shape              Param #   \n",
      "=================================================================\n",
      "embedding (Embedding)        multiple                  1792256   \n",
      "_________________________________________________________________\n",
      "lstm (LSTM)                  multiple                  5246976   \n",
      "_________________________________________________________________\n",
      "lstm_1 (LSTM)                multiple                  8392704   \n",
      "_________________________________________________________________\n",
      "dense (Dense)                multiple                  7176025   \n",
      "=================================================================\n",
      "Total params: 22,607,961\n",
      "Trainable params: 22,607,961\n",
      "Non-trainable params: 0\n",
      "_________________________________________________________________\n"
     ]
    }
   ],
   "source": [
    "model.summary()"
   ]
  },
  {
   "cell_type": "markdown",
   "id": "354609a3",
   "metadata": {},
   "source": [
    "# 학습"
   ]
  },
  {
   "cell_type": "code",
   "execution_count": 16,
   "id": "e10d2dd9",
   "metadata": {},
   "outputs": [
    {
     "name": "stdout",
     "output_type": "stream",
     "text": [
      "Epoch 1/10\n",
      "556/556 [==============================] - 144s 250ms/step - loss: 1.7042\n",
      "Epoch 2/10\n",
      "556/556 [==============================] - 148s 266ms/step - loss: 1.4320\n",
      "Epoch 3/10\n",
      "556/556 [==============================] - 149s 268ms/step - loss: 1.3480\n",
      "Epoch 4/10\n",
      "556/556 [==============================] - 149s 267ms/step - loss: 1.2788\n",
      "Epoch 5/10\n",
      "556/556 [==============================] - 149s 268ms/step - loss: 1.2207\n",
      "Epoch 6/10\n",
      "556/556 [==============================] - 149s 268ms/step - loss: 1.1698\n",
      "Epoch 7/10\n",
      "556/556 [==============================] - 149s 268ms/step - loss: 1.1225\n",
      "Epoch 8/10\n",
      "556/556 [==============================] - 149s 268ms/step - loss: 1.0783\n",
      "Epoch 9/10\n",
      "556/556 [==============================] - 149s 268ms/step - loss: 1.0361\n",
      "Epoch 10/10\n",
      "556/556 [==============================] - 149s 268ms/step - loss: 0.9957\n"
     ]
    },
    {
     "data": {
      "text/plain": [
       "<keras.callbacks.History at 0x7fabdc1fc4f0>"
      ]
     },
     "execution_count": 16,
     "metadata": {},
     "output_type": "execute_result"
    }
   ],
   "source": [
    "# optimizer와 loss등은 차차 배웁니다\n",
    "# 혹시 미리 알고 싶다면 아래 문서를 참고하세요\n",
    "# https://www.tensorflow.org/api_docs/python/tf/keras/optimizers\n",
    "# https://www.tensorflow.org/api_docs/python/tf/keras/losses\n",
    "# 양이 상당히 많은 편이니 지금 보는 것은 추천하지 않습니다\n",
    "optimizer = tf.keras.optimizers.Adam()\n",
    "loss = tf.keras.losses.SparseCategoricalCrossentropy(\n",
    "    from_logits=True,\n",
    "    reduction='none'\n",
    ")\n",
    "\n",
    "model.compile(loss=loss, optimizer=optimizer)\n",
    "model.fit(dataset, epochs=10)"
   ]
  },
  {
   "cell_type": "markdown",
   "id": "64f11d43",
   "metadata": {},
   "source": [
    "# 모델 평가하기"
   ]
  },
  {
   "cell_type": "code",
   "execution_count": 17,
   "id": "42da17dd",
   "metadata": {},
   "outputs": [],
   "source": [
    "def generate_text(model, tokenizer, init_sentence=\"<start>\", max_len=20):\n",
    "    # 테스트를 위해서 입력받은 init_sentence도 텐서로 변환합니다\n",
    "    test_input = tokenizer.texts_to_sequences([init_sentence])\n",
    "    test_tensor = tf.convert_to_tensor(test_input, dtype=tf.int64)\n",
    "    end_token = tokenizer.word_index[\"<end>\"]\n",
    "\n",
    "    # 단어 하나씩 예측해 문장을 만듭니다\n",
    "    #    1. 입력받은 문장의 텐서를 입력합니다\n",
    "    #    2. 예측된 값 중 가장 높은 확률인 word index를 뽑아냅니다\n",
    "    #    3. 2에서 예측된 word index를 문장 뒤에 붙입니다\n",
    "    #    4. 모델이 <end>를 예측했거나, max_len에 도달했다면 문장 생성을 마칩니다\n",
    "    while True:\n",
    "        # 1\n",
    "        predict = model(test_tensor) \n",
    "        # 2\n",
    "        predict_word = tf.argmax(tf.nn.softmax(predict, axis=-1), axis=-1)[:, -1] \n",
    "        # 3 \n",
    "        test_tensor = tf.concat([test_tensor, tf.expand_dims(predict_word, axis=0)], axis=-1)\n",
    "        # 4\n",
    "        if predict_word.numpy()[0] == end_token: break\n",
    "        if test_tensor.shape[1] >= max_len: break\n",
    "\n",
    "    generated = \"\"\n",
    "    # tokenizer를 이용해 word index를 단어로 하나씩 변환합니다 \n",
    "    for word_index in test_tensor[0].numpy():\n",
    "        generated += tokenizer.index_word[word_index] + \" \"\n",
    "\n",
    "    return generated"
   ]
  },
  {
   "cell_type": "code",
   "execution_count": 18,
   "id": "4f41bfb3",
   "metadata": {},
   "outputs": [
    {
     "data": {
      "text/plain": [
       "'<start> i love you , i love you <end> '"
      ]
     },
     "execution_count": 18,
     "metadata": {},
     "output_type": "execute_result"
    }
   ],
   "source": [
    "generate_text(model, tokenizer, init_sentence=\"<start> i love\")"
   ]
  },
  {
   "cell_type": "code",
   "execution_count": 19,
   "id": "b3cf75bf",
   "metadata": {},
   "outputs": [
    {
     "data": {
      "text/plain": [
       "'<start> are you ready for the one ? <end> '"
      ]
     },
     "execution_count": 19,
     "metadata": {},
     "output_type": "execute_result"
    }
   ],
   "source": [
    "generate_text(model, tokenizer, init_sentence=\"<start> are you\")"
   ]
  },
  {
   "cell_type": "code",
   "execution_count": 20,
   "id": "65411fe3",
   "metadata": {},
   "outputs": [
    {
     "data": {
      "text/plain": [
       "'<start> i am the walrus <end> '"
      ]
     },
     "execution_count": 20,
     "metadata": {},
     "output_type": "execute_result"
    }
   ],
   "source": [
    "generate_text(model, tokenizer, init_sentence=\"<start> i am\")"
   ]
  },
  {
   "cell_type": "code",
   "execution_count": 21,
   "id": "3c750e03",
   "metadata": {},
   "outputs": [
    {
     "data": {
      "text/plain": [
       "'<start> who s that chick ? who s that chick ? <end> '"
      ]
     },
     "execution_count": 21,
     "metadata": {},
     "output_type": "execute_result"
    }
   ],
   "source": [
    "generate_text(model, tokenizer, init_sentence=\"<start> who\")"
   ]
  },
  {
   "cell_type": "code",
   "execution_count": 22,
   "id": "44164e6f",
   "metadata": {},
   "outputs": [
    {
     "data": {
      "text/plain": [
       "'<start> i would not be flawless , but you know <end> '"
      ]
     },
     "execution_count": 22,
     "metadata": {},
     "output_type": "execute_result"
    }
   ],
   "source": [
    "generate_text(model, tokenizer, init_sentence=\"<start> I would\")"
   ]
  },
  {
   "cell_type": "code",
   "execution_count": 23,
   "id": "8fe2de9b",
   "metadata": {},
   "outputs": [
    {
     "data": {
      "text/plain": [
       "'<start> yes , i m a voodoo child <end> '"
      ]
     },
     "execution_count": 23,
     "metadata": {},
     "output_type": "execute_result"
    }
   ],
   "source": [
    "generate_text(model, tokenizer, init_sentence=\"<start> yes\")"
   ]
  },
  {
   "cell_type": "code",
   "execution_count": 24,
   "id": "9c380ae9",
   "metadata": {},
   "outputs": [
    {
     "data": {
      "text/plain": [
       "'<start> by the way you were <end> '"
      ]
     },
     "execution_count": 24,
     "metadata": {},
     "output_type": "execute_result"
    }
   ],
   "source": [
    "generate_text(model, tokenizer, init_sentence=\"<start> by the way\")"
   ]
  },
  {
   "cell_type": "code",
   "execution_count": 25,
   "id": "14782d3e",
   "metadata": {},
   "outputs": [
    {
     "data": {
      "text/plain": [
       "'<start> happy , free , free <end> '"
      ]
     },
     "execution_count": 25,
     "metadata": {},
     "output_type": "execute_result"
    }
   ],
   "source": [
    "generate_text(model, tokenizer, init_sentence=\"<start> happy\")"
   ]
  },
  {
   "cell_type": "code",
   "execution_count": 26,
   "id": "aa5b02b4",
   "metadata": {},
   "outputs": [
    {
     "data": {
      "text/plain": [
       "'<start> good job , i m a <unk> <end> '"
      ]
     },
     "execution_count": 26,
     "metadata": {},
     "output_type": "execute_result"
    }
   ],
   "source": [
    "generate_text(model, tokenizer, init_sentence=\"<start> good job\")"
   ]
  },
  {
   "cell_type": "code",
   "execution_count": null,
   "id": "e913522c",
   "metadata": {},
   "outputs": [],
   "source": []
  }
 ],
 "metadata": {
  "kernelspec": {
   "display_name": "Python 3 (ipykernel)",
   "language": "python",
   "name": "python3"
  },
  "language_info": {
   "codemirror_mode": {
    "name": "ipython",
    "version": 3
   },
   "file_extension": ".py",
   "mimetype": "text/x-python",
   "name": "python",
   "nbconvert_exporter": "python",
   "pygments_lexer": "ipython3",
   "version": "3.9.7"
  }
 },
 "nbformat": 4,
 "nbformat_minor": 5
}
